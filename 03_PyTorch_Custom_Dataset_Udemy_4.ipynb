{
  "nbformat": 4,
  "nbformat_minor": 0,
  "metadata": {
    "colab": {
      "provenance": [],
      "gpuType": "T4",
      "authorship_tag": "ABX9TyP0/Nfx8kcXxFL3rleYyv7O",
      "include_colab_link": true
    },
    "kernelspec": {
      "name": "python3",
      "display_name": "Python 3"
    },
    "language_info": {
      "name": "python"
    },
    "accelerator": "GPU"
  },
  "cells": [
    {
      "cell_type": "markdown",
      "metadata": {
        "id": "view-in-github",
        "colab_type": "text"
      },
      "source": [
        "<a href=\"https://colab.research.google.com/github/Anupama83/PyTorch-for-Deep-Learning/blob/main/03_PyTorch_Custom_Dataset_Udemy_4.ipynb\" target=\"_parent\"><img src=\"https://colab.research.google.com/assets/colab-badge.svg\" alt=\"Open In Colab\"/></a>"
      ]
    },
    {
      "cell_type": "markdown",
      "source": [
        "# Custom Dataset\n",
        "1. https://pytorch.org/tutorials/beginner/basics/data_tutorial.html\n",
        "2. https://pytorch.org/vision/0.8/datasets.html\n",
        "3. https://pytorch.org/audio/stable/index.html\n",
        "\n"
      ],
      "metadata": {
        "id": "mXCqt3gluc69"
      }
    },
    {
      "cell_type": "markdown",
      "source": [
        "# What we're going to build\n",
        "1. Getting a custom dataset with PyTorch\n",
        "2. Becoming one with the data (preparing and visualizing)\n",
        "3. Transforming data for use with a model\n",
        "4. Loading custom data with pre-built fucntions and custom functions\n",
        "5. Building FoodVision Mini to classify food images\n",
        "6. Comparing models with and without data augmentation\n",
        "7. Making predictions on custom data\n",
        "\n",
        "\n",
        "\n",
        "* FoodVision Mini\n",
        "PyTorch Libraries:\n",
        "1. torchvision.transforms\n",
        "2. torch.utils.data.Dataset\n",
        "3. torch.utils.data.DataLoader\n",
        "\n"
      ],
      "metadata": {
        "id": "lAOUfyArunzJ"
      }
    },
    {
      "cell_type": "markdown",
      "source": [
        "\n",
        "We've used some datasets with PyTorch before.\n",
        "\n",
        "But how do you get your own data into PyTorch?\n",
        "\n",
        "\n",
        "ONe of the wats to do so is vie: custom dataset\n",
        "\n",
        "## Domain Libraries\n",
        "\n",
        "Depending on what you're working on, vision, text, audio, recommendation, you'll want to look into each of the PyTorch domain libraries for existing data loading functions and customizable data loading functions."
      ],
      "metadata": {
        "id": "ObJ6JXfjH2A9"
      }
    },
    {
      "cell_type": "markdown",
      "source": [
        "## 0. Importing PyTorch and Setting up Device Agnostic Code\n"
      ],
      "metadata": {
        "id": "b-nYMFADoCmD"
      }
    },
    {
      "cell_type": "code",
      "execution_count": 1,
      "metadata": {
        "id": "EOZJlCVWuSuU",
        "colab": {
          "base_uri": "https://localhost:8080/",
          "height": 35
        },
        "outputId": "9ab6919a-6a02-48c8-aa5b-6423dfd7934e"
      },
      "outputs": [
        {
          "output_type": "execute_result",
          "data": {
            "text/plain": [
              "'2.5.1+cu121'"
            ],
            "application/vnd.google.colaboratory.intrinsic+json": {
              "type": "string"
            }
          },
          "metadata": {},
          "execution_count": 1
        }
      ],
      "source": [
        "import torch\n",
        "from torch import nn\n",
        "\n",
        "torch.__version__"
      ]
    },
    {
      "cell_type": "code",
      "source": [
        "# Set up device agnostic\n",
        "device = \"cuda\" if torch.cuda.is_available() else \"cpu\"\n",
        "device"
      ],
      "metadata": {
        "colab": {
          "base_uri": "https://localhost:8080/",
          "height": 35
        },
        "id": "ElZ_taNJowth",
        "outputId": "5b46e109-93d7-4c85-dfbc-8f5e0ba03d39"
      },
      "execution_count": 2,
      "outputs": [
        {
          "output_type": "execute_result",
          "data": {
            "text/plain": [
              "'cuda'"
            ],
            "application/vnd.google.colaboratory.intrinsic+json": {
              "type": "string"
            }
          },
          "metadata": {},
          "execution_count": 2
        }
      ]
    },
    {
      "cell_type": "code",
      "source": [
        "!nvidia-smi"
      ],
      "metadata": {
        "colab": {
          "base_uri": "https://localhost:8080/"
        },
        "id": "l4QSKFQyo9TL",
        "outputId": "9608d074-9735-42d1-ad61-e0c885e17ce6"
      },
      "execution_count": 3,
      "outputs": [
        {
          "output_type": "stream",
          "name": "stdout",
          "text": [
            "Sun Dec 22 13:53:17 2024       \n",
            "+---------------------------------------------------------------------------------------+\n",
            "| NVIDIA-SMI 535.104.05             Driver Version: 535.104.05   CUDA Version: 12.2     |\n",
            "|-----------------------------------------+----------------------+----------------------+\n",
            "| GPU  Name                 Persistence-M | Bus-Id        Disp.A | Volatile Uncorr. ECC |\n",
            "| Fan  Temp   Perf          Pwr:Usage/Cap |         Memory-Usage | GPU-Util  Compute M. |\n",
            "|                                         |                      |               MIG M. |\n",
            "|=========================================+======================+======================|\n",
            "|   0  Tesla T4                       Off | 00000000:00:04.0 Off |                    0 |\n",
            "| N/A   50C    P8              10W /  70W |      3MiB / 15360MiB |      0%      Default |\n",
            "|                                         |                      |                  N/A |\n",
            "+-----------------------------------------+----------------------+----------------------+\n",
            "                                                                                         \n",
            "+---------------------------------------------------------------------------------------+\n",
            "| Processes:                                                                            |\n",
            "|  GPU   GI   CI        PID   Type   Process name                            GPU Memory |\n",
            "|        ID   ID                                                             Usage      |\n",
            "|=======================================================================================|\n",
            "|  No running processes found                                                           |\n",
            "+---------------------------------------------------------------------------------------+\n"
          ]
        }
      ]
    },
    {
      "cell_type": "markdown",
      "source": [
        "## 1. Get Data\n",
        "\n",
        "Our dataset is a subset of the FOod101 dataset.\n",
        "\n",
        "Food101 startes 101 different classes of food and 1000 images per class (750 training and 250 testing.\n",
        "\n",
        "Our dataset starts with 3 classes of food and only 10% of the images (~75 training, 25 testing)\n",
        "\n",
        "\n",
        "Why do this?\n",
        "\n",
        "When starting out ML projects, it's important to try things on a small scale and then increase the scale when necessary.\n",
        "\n",
        "The whole point is speed up how fast you can experiment.\n",
        "\n"
      ],
      "metadata": {
        "id": "G3k9NjHDpbli"
      }
    },
    {
      "cell_type": "code",
      "source": [
        "import requests\n",
        "import zipfile\n",
        "from pathlib import Path\n",
        "\n",
        "# Setup path to a data folder\n",
        "data_path = Path(\"data/\")\n",
        "image_path = data_path / \"pizza_steak_sushi\"\n",
        "\n",
        "# If the image folder doesn't exits, download it and prepare it\n",
        "\n",
        "if image_path.is_dir():\n",
        "  print(f\"{image_path} directry exists... skipping download\")\n",
        "else:\n",
        "  print(f\"{image_path} does not exist, creating one...\")\n",
        "  image_path.mkdir(parents = True, exist_ok = True)\n",
        "\n",
        "# Download pizza, steak and sushi data\n",
        "with open(data_path / \"pizza_steak_sushi.zip\", \"wb\") as f:\n",
        "  request = requests.get(\"https://github.com/mrdbourke/pytorch-deep-learning/raw/main/data/pizza_steak_sushi.zip\")\n",
        "  print(\"Downloading pizza, steak, sushi data...\")\n",
        "  f.write(request.content)\n",
        "\n",
        "# Unzip\n",
        "with zipfile.ZipFile(data_path / \"pizza_steak_sushi.zip\", \"r\") as zip_ref:\n",
        "  print(\"Unzipping pizza steak and sushi data\")\n",
        "  zip_ref.extractall(image_path)\n",
        "\n",
        "# Remove zip file\n",
        "!rm {data_path / \"pizza_steak_sushi.zip\"}\n"
      ],
      "metadata": {
        "colab": {
          "base_uri": "https://localhost:8080/"
        },
        "id": "cQfKUeZupMFa",
        "outputId": "fd98fe2f-76de-44c8-9e93-e6bef5884e5a"
      },
      "execution_count": 9,
      "outputs": [
        {
          "output_type": "stream",
          "name": "stdout",
          "text": [
            "data/pizza_steak_sushi directry exists... skipping download\n",
            "Downloading pizza, steak, sushi data...\n",
            "Unzipping pizza steak and sushi data\n"
          ]
        }
      ]
    },
    {
      "cell_type": "code",
      "source": [
        "data_path / \"pizza_steak_sushi.zip\""
      ],
      "metadata": {
        "colab": {
          "base_uri": "https://localhost:8080/"
        },
        "id": "MY02FMr0sRsb",
        "outputId": "24df526f-5db2-4ede-8968-71a330f188c3"
      },
      "execution_count": 8,
      "outputs": [
        {
          "output_type": "execute_result",
          "data": {
            "text/plain": [
              "PosixPath('data/pizza_steak_sushi.zip')"
            ]
          },
          "metadata": {},
          "execution_count": 8
        }
      ]
    },
    {
      "cell_type": "code",
      "source": [],
      "metadata": {
        "id": "cS4kJHqUtsiq"
      },
      "execution_count": null,
      "outputs": []
    }
  ]
}